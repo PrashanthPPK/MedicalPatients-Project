{
 "cells": [
  {
   "cell_type": "markdown",
   "metadata": {},
   "source": [
    "## Trying the Code for One Single PDF File"
   ]
  },
  {
   "cell_type": "code",
   "execution_count": 35,
   "metadata": {},
   "outputs": [],
   "source": [
    "from pdf2image import convert_from_path\n",
    "import pandas as pd\n",
    "import fastapi\n",
    "import pytesseract\n",
    "import numpy as np"
   ]
  },
  {
   "cell_type": "code",
   "execution_count": 2,
   "metadata": {},
   "outputs": [],
   "source": [
    "#Image Saves in the form of array in 'pages'\n",
    "pages = convert_from_path(r'/Users/Prashanth/Desktop/Medical Project/Resources/prescription/pre_1.pdf',\n",
    "                          poppler_path=r'/usr/local/bin/')"
   ]
  },
  {
   "cell_type": "code",
   "execution_count": 18,
   "metadata": {},
   "outputs": [],
   "source": [
    "#Saves the image\n",
    "pages[0].save('clear_image.jpg','JPEG')"
   ]
  },
  {
   "cell_type": "code",
   "execution_count": 9,
   "metadata": {},
   "outputs": [
    {
     "name": "stdout",
     "output_type": "stream",
     "text": [
      "Dr John Smith, M.D\n",
      "2 Non-Important Street,\n",
      "New York, Phone (000)-111-2222\n",
      "\n",
      "Name: Maria Sharapova Date: 5/11/2022\n",
      "\n",
      "Address: 9 tennis court, new Russia, DC\n",
      "\n",
      "—moemenmannenneneneunmnnnnennieesisiyoinnitniahadaaanniihsnseneneneeeernnttnnneenrenen:\n",
      "\n",
      "Prednisone 20 mg\n",
      "Lialda 2.4 gram\n",
      "\n",
      "3 days,\n",
      "\n",
      "or 1 month\n",
      "\n"
     ]
    }
   ],
   "source": [
    "#Converting pages array to string using pytesseract\n",
    "\n",
    "pytesseract.pytesseract.tesseract_cmd = '/usr/local/bin/tesseract'\n",
    "text = pytesseract.image_to_string(pages[0], lang='eng')\n",
    "print(text)"
   ]
  },
  {
   "cell_type": "markdown",
   "metadata": {},
   "source": [
    "The text shows some descripencies due to the blurness/gray shadow in the image\n",
    "### Preprocessing Using Thresholding OpenCV"
   ]
  },
  {
   "cell_type": "code",
   "execution_count": 10,
   "metadata": {},
   "outputs": [],
   "source": [
    "import cv2\n",
    "from PIL import Image"
   ]
  },
  {
   "cell_type": "code",
   "execution_count": 32,
   "metadata": {},
   "outputs": [
    {
     "data": {
      "text/plain": [
       "array([[208, 207, 207, ..., 185, 185, 185],\n",
       "       [205, 205, 205, ..., 183, 183, 182],\n",
       "       [203, 204, 204, ..., 185, 185, 186],\n",
       "       ...,\n",
       "       [155, 156, 158, ..., 176, 176, 176],\n",
       "       [161, 162, 161, ..., 183, 183, 184],\n",
       "       [152, 154, 156, ..., 178, 179, 179]], dtype=uint8)"
      ]
     },
     "execution_count": 32,
     "metadata": {},
     "output_type": "execute_result"
    }
   ],
   "source": [
    "#Saves it to the NewImg numpy array using pixeling\n",
    "NewImg = cv2.imread(\"clear_image.jpg\",flags=cv2.IMREAD_GRAYSCALE)\n",
    "NewImg"
   ]
  },
  {
   "cell_type": "code",
   "execution_count": 33,
   "metadata": {},
   "outputs": [],
   "source": [
    "_, NewImgThreshold = cv2.threshold(NewImg, 150, 255, cv2.THRESH_BINARY)\n",
    "Image.fromarray(NewImgThreshold).show()"
   ]
  },
  {
   "cell_type": "code",
   "execution_count": 34,
   "metadata": {},
   "outputs": [],
   "source": [
    "#Using cv2 Gaussian formula for getting clear image\n",
    "\n",
    "# Apply adaptive thresholding\n",
    "# blockSize: Size of pixel neighborhood (must be odd)\n",
    "# constant: Value subtracted from the threshold (fine-tunes result)\n",
    "thresh_img = cv2.adaptiveThreshold(NewImg,             # Input image\n",
    "                                  255,                # Max pixel value (white)\n",
    "                                  cv2.ADAPTIVE_THRESH_GAUSSIAN_C,  # Use Gaussian method\n",
    "                                  cv2.THRESH_BINARY,   # Binary threshold (0 or 255)\n",
    "                                  61,                 # Block size (local region)\n",
    "                                  11)                 # Subtracted constant (fine-tuning)\n",
    "\n",
    "Image.fromarray(thresh_img).show()"
   ]
  },
  {
   "cell_type": "markdown",
   "metadata": {},
   "source": [
    "### Defining the Image Processing Function"
   ]
  },
  {
   "cell_type": "code",
   "execution_count": 42,
   "metadata": {},
   "outputs": [],
   "source": [
    "# Function to process an image (grayscale, resize, and apply adaptive thresholding)\n",
    "def ProcessingImage(img):\n",
    "    # Convert image to grayscale\n",
    "    gray = cv2.cvtColor(np.array(img), cv2.COLOR_BGR2GRAY)\n",
    "\n",
    "    # Resize image (increase size by 1.5x)\n",
    "    resizedimage = cv2.resize(gray, None, fx=1.5, fy=1.5, interpolation=cv2.INTER_LINEAR)\n",
    "\n",
    "    # Apply adaptive thresholding (Gaussian)\n",
    "    processedimage = cv2.adaptiveThreshold(resizedimage,  # Input grayscale image\n",
    "                                           255,           # Max pixel value (white)\n",
    "                                           cv2.ADAPTIVE_THRESH_GAUSSIAN_C,  # Gaussian method\n",
    "                                           cv2.THRESH_BINARY,   # Binary thresholding\n",
    "                                           61,            # Block size (neighborhood size)\n",
    "                                           11)            # Constant to subtract\n",
    "\n",
    "    # Return processed image\n",
    "    return processedimage"
   ]
  },
  {
   "cell_type": "code",
   "execution_count": 47,
   "metadata": {},
   "outputs": [],
   "source": [
    "#Trying the function using previous image array stored in pytesseract\n",
    "newimage = ProcessingImage(pages[0])\n",
    "Image.fromarray(newimage).show()            "
   ]
  },
  {
   "cell_type": "code",
   "execution_count": 46,
   "metadata": {},
   "outputs": [
    {
     "name": "stdout",
     "output_type": "stream",
     "text": [
      "Dr John Smith, M.D\n",
      "2 Non-Important Street,\n",
      "New York, Phone (000)-121-2222\n",
      "\n",
      "Name: Marta Sharapova Date: 2/11/2022\n",
      "\n",
      "Address: 9 tennis court, new Russia, DC\n",
      "\n",
      "K\n",
      "\n",
      "Prednisone 20 mg\n",
      "Lialda 2.4 gram\n",
      "\n",
      "Directions:\n",
      "Prednisone, Taper 5 mg every 3 days,\n",
      "\n",
      "Finish in 2.5 weeks -\n",
      "Lialda - take 2 pill everyday for 1 month\n",
      "\n",
      "Refill: 2 times\n",
      "\n"
     ]
    }
   ],
   "source": [
    "#Converting processed image to string using pytesseract\n",
    "\n",
    "pytesseract.pytesseract.tesseract_cmd = '/usr/local/bin/tesseract'\n",
    "text = pytesseract.image_to_string(newimage, lang='eng')\n",
    "print(text)"
   ]
  },
  {
   "cell_type": "markdown",
   "metadata": {},
   "source": [
    "## Converting all the PDF files in the folder"
   ]
  },
  {
   "cell_type": "code",
   "execution_count": 48,
   "metadata": {},
   "outputs": [
    {
     "name": "stdout",
     "output_type": "stream",
     "text": [
      "Text extraction completed and saved to text files.\n"
     ]
    }
   ],
   "source": [
    "import os\n",
    "import cv2\n",
    "import numpy as np\n",
    "from pdf2image import convert_from_path\n",
    "import pytesseract\n",
    "from PIL import Image\n",
    "\n",
    "# Function to process an image (grayscale, resize, and apply adaptive thresholding)\n",
    "def ProcessingImage(img):\n",
    "    gray = cv2.cvtColor(np.array(img), cv2.COLOR_BGR2GRAY)  # Convert image to grayscale\n",
    "    resizedimage = cv2.resize(gray, None, fx=1.5, fy=1.5, interpolation=cv2.INTER_LINEAR)  # Resize image\n",
    "    processedimage = cv2.adaptiveThreshold(resizedimage,  # Apply adaptive thresholding\n",
    "                                           255,           # Max pixel value (white)\n",
    "                                           cv2.ADAPTIVE_THRESH_GAUSSIAN_C,  # Gaussian method\n",
    "                                           cv2.THRESH_BINARY,   # Binary thresholding\n",
    "                                           61,            # Block size (neighborhood size)\n",
    "                                           11)            # Constant to subtract\n",
    "    return processedimage\n",
    "\n",
    "# Set the path for the directory containing PDF files\n",
    "pdf_directory = '/Users/Prashanth/Desktop/Medical Project/Resources/prescription/'\n",
    "output_directory = '/Users/Prashanth/Desktop/Medical Project/extracted_text/'\n",
    "\n",
    "# Ensure output directory exists\n",
    "os.makedirs(output_directory, exist_ok=True)\n",
    "\n",
    "# Iterate through all PDF files in the directory\n",
    "for filename in os.listdir(pdf_directory):\n",
    "    if filename.endswith('.pdf'):\n",
    "        pdf_path = os.path.join(pdf_directory, filename)  # Get full path of the PDF file\n",
    "        pages = convert_from_path(pdf_path, poppler_path='/usr/local/bin/')  # Convert PDF to images\n",
    "        \n",
    "        for i, page in enumerate(pages):\n",
    "            newimage = ProcessingImage(page)  # Process the image\n",
    "            text = pytesseract.image_to_string(newimage, lang='eng')  # Extract text\n",
    "            \n",
    "            # Save the extracted text to a .txt file\n",
    "            text_filename = f\"{os.path.splitext(filename)[0]}_page_{i + 1}.txt\"  # Create text file name\n",
    "            text_path = os.path.join(output_directory, text_filename)\n",
    "            \n",
    "            with open(text_path, 'w') as text_file:\n",
    "                text_file.write(text)  # Write the text to the file\n",
    "\n",
    "print(\"Text extraction completed and saved to text files.\")"
   ]
  },
  {
   "cell_type": "code",
   "execution_count": null,
   "metadata": {},
   "outputs": [],
   "source": []
  }
 ],
 "metadata": {
  "kernelspec": {
   "display_name": "base",
   "language": "python",
   "name": "python3"
  },
  "language_info": {
   "codemirror_mode": {
    "name": "ipython",
    "version": 3
   },
   "file_extension": ".py",
   "mimetype": "text/x-python",
   "name": "python",
   "nbconvert_exporter": "python",
   "pygments_lexer": "ipython3",
   "version": "3.12.4"
  }
 },
 "nbformat": 4,
 "nbformat_minor": 2
}
